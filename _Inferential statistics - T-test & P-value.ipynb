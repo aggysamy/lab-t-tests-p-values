{
 "cells": [
  {
   "cell_type": "raw",
   "id": "7ba53942",
   "metadata": {},
   "source": [
    "Lab | T tests and p values\n",
    "Instructions\n",
    "This time this is a one sided t-test. In a packing plant, a machine packs cartons with jars. It is supposed that a new machine will pack faster on the average than the machine currently used. To test that hypothesis, the times it takes each machine to pack ten cartons are recorded. The results, in seconds, are shown in the tables in the file files_for_lab/machine.txt. Assume that there is sufficient evidence to conduct the t test, does the data provide sufficient evidence to show if one machine is better than the other"
   ]
  },
  {
   "cell_type": "code",
   "execution_count": 8,
   "id": "7627e0b7",
   "metadata": {},
   "outputs": [],
   "source": [
    "from scipy.stats import ttest_1samp\n",
    "from scipy.stats import norm\n",
    "import math\n",
    "from scipy.stats import t"
   ]
  },
  {
   "cell_type": "code",
   "execution_count": 9,
   "id": "11a1df85",
   "metadata": {},
   "outputs": [],
   "source": [
    "import numpy as np\n",
    "import pandas as pd"
   ]
  },
  {
   "cell_type": "code",
   "execution_count": 27,
   "id": "548e6601",
   "metadata": {},
   "outputs": [],
   "source": [
    "a = [42.1, 41,  41.3, 41.8, 42.4, 42.8, 43.2, 42.3, 41.8, 42.7]"
   ]
  },
  {
   "cell_type": "code",
   "execution_count": 28,
   "id": "f046be64",
   "metadata": {},
   "outputs": [],
   "source": [
    "b = [42.7, 43.6, 43.8, 43.3, 42.5, 43.5, 43.1, 41.7, 44, 44.1]"
   ]
  },
  {
   "cell_type": "code",
   "execution_count": 29,
   "id": "555ef032",
   "metadata": {},
   "outputs": [],
   "source": [
    "a_mean= np.mean(a)\n",
    "b_mean= np.mean(b)\n",
    "a_std = np.std(a)\n",
    "b_std = np.std(b)\n",
    "n=10"
   ]
  },
  {
   "cell_type": "code",
   "execution_count": 30,
   "id": "ea9b3b03",
   "metadata": {},
   "outputs": [
    {
     "data": {
      "text/plain": [
       "-3.5809955894645813"
      ]
     },
     "execution_count": 30,
     "metadata": {},
     "output_type": "execute_result"
    }
   ],
   "source": [
    "statistic = (a_mean - b_mean)/(math.sqrt(((a_std**2)/n)+(b_std**2)/n))\n",
    "statistic"
   ]
  },
  {
   "cell_type": "code",
   "execution_count": 31,
   "id": "8ee36e72",
   "metadata": {},
   "outputs": [
    {
     "data": {
      "text/plain": [
       "-1.6448536269514729"
      ]
     },
     "execution_count": 31,
     "metadata": {},
     "output_type": "execute_result"
    }
   ],
   "source": [
    "critical_value = norm.ppf(0.05)\n",
    "critical_value"
   ]
  },
  {
   "cell_type": "code",
   "execution_count": 32,
   "id": "86a9bea5",
   "metadata": {},
   "outputs": [
    {
     "data": {
      "text/plain": [
       "42.495498158785935"
      ]
     },
     "execution_count": 32,
     "metadata": {},
     "output_type": "execute_result"
    }
   ],
   "source": [
    "absoluteZ = abs(norm.ppf(0.05))\n",
    "upperCI = a_mean + absoluteZ*a_std/math.sqrt(n-1)\n",
    "upperCI"
   ]
  },
  {
   "cell_type": "code",
   "execution_count": 33,
   "id": "42dc57c9",
   "metadata": {},
   "outputs": [
    {
     "data": {
      "text/plain": [
       "41.784501841214066"
      ]
     },
     "execution_count": 33,
     "metadata": {},
     "output_type": "execute_result"
    }
   ],
   "source": [
    "lowerCI = a_mean - absoluteZ*a_std/math.sqrt(n-1)\n",
    "lowerCI\n"
   ]
  },
  {
   "cell_type": "code",
   "execution_count": 34,
   "id": "45307a5c",
   "metadata": {},
   "outputs": [
    {
     "data": {
      "text/plain": [
       "43.62005349235966"
      ]
     },
     "execution_count": 34,
     "metadata": {},
     "output_type": "execute_result"
    }
   ],
   "source": [
    "upperCI = b_mean + absoluteZ*b_std/math.sqrt(n-1)\n",
    "upperCI\n"
   ]
  },
  {
   "cell_type": "code",
   "execution_count": 35,
   "id": "2c06d37a",
   "metadata": {},
   "outputs": [
    {
     "data": {
      "text/plain": [
       "42.83994650764035"
      ]
     },
     "execution_count": 35,
     "metadata": {},
     "output_type": "execute_result"
    }
   ],
   "source": [
    "lowerCI = b_mean - absoluteZ*b_std/math.sqrt(n-1)\n",
    "lowerCI"
   ]
  },
  {
   "cell_type": "raw",
   "id": "9759d613",
   "metadata": {},
   "source": [
    "Result = the new machine is faster than the old machine\n",
    "In this case we can't assume that the population variances are equal. Hence in this case we cannot pool the variances. Independent random samples of 17 sophomores and 13 juniors attending a large university yield the following data on grade point averages. Data is provided in the file files_for_lab/student_gpa.txt. At the 5% significance level, do the data provide sufficient evidence to conclude that the mean GPAs of sophomores and juniors at the university differ?\n",
    "\n",
    "Test statistics can be calculated as: link to the image - Test statistics calculation for Unpooled Variance Case"
   ]
  },
  {
   "cell_type": "markdown",
   "id": "455616e8",
   "metadata": {},
   "source": [
    "Degrees of freedom is (n1-1)+(n2-1)."
   ]
  },
  {
   "cell_type": "code",
   "execution_count": 36,
   "id": "07ddba3e",
   "metadata": {},
   "outputs": [],
   "source": [
    "Sophomores = [3.04, 1.71, 3.3,2.88,2.11,2.6,2.92,3.6,2.28,2.82,3.03,3.13,2.86,3.49,3.11,2.13,3.27]\n",
    "Juniors = [2.56,2.77, 2.7,3, 2.98, 3.47, 3.26,3.2,3.19,2.65,3,3.39,2.58]"
   ]
  },
  {
   "cell_type": "code",
   "execution_count": 54,
   "id": "c7c2804f",
   "metadata": {},
   "outputs": [],
   "source": [
    "df=pd.read_csv('student_gpa.txt' , sep = \"\\t\")"
   ]
  },
  {
   "cell_type": "code",
   "execution_count": 55,
   "id": "d8bd8b1a",
   "metadata": {},
   "outputs": [],
   "source": [
    "df = df.rename(columns={'  Juniors': 'Juniors'})"
   ]
  },
  {
   "cell_type": "code",
   "execution_count": 56,
   "id": "191b7cd5",
   "metadata": {},
   "outputs": [
    {
     "data": {
      "text/html": [
       "<div>\n",
       "<style scoped>\n",
       "    .dataframe tbody tr th:only-of-type {\n",
       "        vertical-align: middle;\n",
       "    }\n",
       "\n",
       "    .dataframe tbody tr th {\n",
       "        vertical-align: top;\n",
       "    }\n",
       "\n",
       "    .dataframe thead th {\n",
       "        text-align: right;\n",
       "    }\n",
       "</style>\n",
       "<table border=\"1\" class=\"dataframe\">\n",
       "  <thead>\n",
       "    <tr style=\"text-align: right;\">\n",
       "      <th></th>\n",
       "      <th>Sophomores</th>\n",
       "      <th>Juniors</th>\n",
       "    </tr>\n",
       "  </thead>\n",
       "  <tbody>\n",
       "    <tr>\n",
       "      <th>0</th>\n",
       "      <td>3.04</td>\n",
       "      <td>2.56</td>\n",
       "    </tr>\n",
       "    <tr>\n",
       "      <th>1</th>\n",
       "      <td>1.71</td>\n",
       "      <td>2.77</td>\n",
       "    </tr>\n",
       "    <tr>\n",
       "      <th>2</th>\n",
       "      <td>3.30</td>\n",
       "      <td>2.70</td>\n",
       "    </tr>\n",
       "    <tr>\n",
       "      <th>3</th>\n",
       "      <td>2.88</td>\n",
       "      <td>3.00</td>\n",
       "    </tr>\n",
       "    <tr>\n",
       "      <th>4</th>\n",
       "      <td>2.11</td>\n",
       "      <td>2.98</td>\n",
       "    </tr>\n",
       "    <tr>\n",
       "      <th>5</th>\n",
       "      <td>2.60</td>\n",
       "      <td>3.47</td>\n",
       "    </tr>\n",
       "    <tr>\n",
       "      <th>6</th>\n",
       "      <td>2.92</td>\n",
       "      <td>3.26</td>\n",
       "    </tr>\n",
       "    <tr>\n",
       "      <th>7</th>\n",
       "      <td>3.60</td>\n",
       "      <td>3.20</td>\n",
       "    </tr>\n",
       "    <tr>\n",
       "      <th>8</th>\n",
       "      <td>2.28</td>\n",
       "      <td>3.19</td>\n",
       "    </tr>\n",
       "    <tr>\n",
       "      <th>9</th>\n",
       "      <td>2.82</td>\n",
       "      <td>2.65</td>\n",
       "    </tr>\n",
       "    <tr>\n",
       "      <th>10</th>\n",
       "      <td>3.03</td>\n",
       "      <td>3.00</td>\n",
       "    </tr>\n",
       "    <tr>\n",
       "      <th>11</th>\n",
       "      <td>3.13</td>\n",
       "      <td>3.39</td>\n",
       "    </tr>\n",
       "    <tr>\n",
       "      <th>12</th>\n",
       "      <td>2.86</td>\n",
       "      <td>2.58</td>\n",
       "    </tr>\n",
       "    <tr>\n",
       "      <th>13</th>\n",
       "      <td>3.49</td>\n",
       "      <td>NaN</td>\n",
       "    </tr>\n",
       "    <tr>\n",
       "      <th>14</th>\n",
       "      <td>3.11</td>\n",
       "      <td>NaN</td>\n",
       "    </tr>\n",
       "    <tr>\n",
       "      <th>15</th>\n",
       "      <td>2.13</td>\n",
       "      <td>NaN</td>\n",
       "    </tr>\n",
       "    <tr>\n",
       "      <th>16</th>\n",
       "      <td>3.27</td>\n",
       "      <td>NaN</td>\n",
       "    </tr>\n",
       "  </tbody>\n",
       "</table>\n",
       "</div>"
      ],
      "text/plain": [
       "    Sophomores  Juniors\n",
       "0         3.04     2.56\n",
       "1         1.71     2.77\n",
       "2         3.30     2.70\n",
       "3         2.88     3.00\n",
       "4         2.11     2.98\n",
       "5         2.60     3.47\n",
       "6         2.92     3.26\n",
       "7         3.60     3.20\n",
       "8         2.28     3.19\n",
       "9         2.82     2.65\n",
       "10        3.03     3.00\n",
       "11        3.13     3.39\n",
       "12        2.86     2.58\n",
       "13        3.49      NaN\n",
       "14        3.11      NaN\n",
       "15        2.13      NaN\n",
       "16        3.27      NaN"
      ]
     },
     "execution_count": 56,
     "metadata": {},
     "output_type": "execute_result"
    }
   ],
   "source": [
    "df"
   ]
  },
  {
   "cell_type": "code",
   "execution_count": 59,
   "id": "254267ed",
   "metadata": {},
   "outputs": [],
   "source": [
    "sopho_mean= np.mean(df[\"Sophomores\"])\n",
    "juniors_mean= np.mean(df['Juniors'])\n",
    "sopho_std = np.std(df[\"Sophomores\"])\n",
    "juniors_std = np.std(df['Juniors'])\n",
    "juniors_n = (len(df['Juniors']) - (df['Juniors'].isna().sum()))\n",
    "sopho_n = (len(df[\"Sophomores\"]) - (df[\"Sophomores\"].isna().sum()))"
   ]
  },
  {
   "cell_type": "code",
   "execution_count": 60,
   "id": "5ffa55e4",
   "metadata": {},
   "outputs": [
    {
     "data": {
      "text/plain": [
       "-0.9544689615323283"
      ]
     },
     "execution_count": 60,
     "metadata": {},
     "output_type": "execute_result"
    }
   ],
   "source": [
    "statistic2 = (sopho_mean - juniors_mean)/(math.sqrt(((sopho_std**2)/sopho_n)+(juniors_std**2)/juniors_n))\n",
    "statistic2"
   ]
  },
  {
   "cell_type": "code",
   "execution_count": 61,
   "id": "3217132f",
   "metadata": {},
   "outputs": [
    {
     "data": {
      "text/plain": [
       "3.047379373851394"
      ]
     },
     "execution_count": 61,
     "metadata": {},
     "output_type": "execute_result"
    }
   ],
   "source": [
    "absoluteZ = abs(norm.ppf(0.05))\n",
    "upperCI = sopho_mean + absoluteZ*sopho_std/math.sqrt(sopho_n-1)\n",
    "upperCI"
   ]
  },
  {
   "cell_type": "code",
   "execution_count": 62,
   "id": "0265a9a5",
   "metadata": {},
   "outputs": [
    {
     "data": {
      "text/plain": [
       "2.6326206261486065"
      ]
     },
     "execution_count": 62,
     "metadata": {},
     "output_type": "execute_result"
    }
   ],
   "source": [
    "lowerCI = sopho_mean - absoluteZ*sopho_std/math.sqrt(sopho_n-1)\n",
    "lowerCI"
   ]
  },
  {
   "cell_type": "code",
   "execution_count": 63,
   "id": "944861f0",
   "metadata": {},
   "outputs": [
    {
     "data": {
      "text/plain": [
       "3.1218532076346337"
      ]
     },
     "execution_count": 63,
     "metadata": {},
     "output_type": "execute_result"
    }
   ],
   "source": [
    "upperCI = juniors_mean + absoluteZ*juniors_std/math.sqrt(juniors_n-1)\n",
    "upperCI"
   ]
  },
  {
   "cell_type": "code",
   "execution_count": 64,
   "id": "fb9f64e1",
   "metadata": {},
   "outputs": [
    {
     "data": {
      "text/plain": [
       "2.839685253903828"
      ]
     },
     "execution_count": 64,
     "metadata": {},
     "output_type": "execute_result"
    }
   ],
   "source": [
    "lowerCI = juniors_mean - absoluteZ*juniors_std/math.sqrt(juniors_n-1)\n",
    "lowerCI"
   ]
  },
  {
   "cell_type": "code",
   "execution_count": null,
   "id": "e5650100",
   "metadata": {},
   "outputs": [],
   "source": []
  },
  {
   "cell_type": "code",
   "execution_count": null,
   "id": "ee0beee2",
   "metadata": {},
   "outputs": [],
   "source": []
  },
  {
   "cell_type": "code",
   "execution_count": null,
   "id": "d60b871e",
   "metadata": {},
   "outputs": [],
   "source": []
  },
  {
   "cell_type": "code",
   "execution_count": null,
   "id": "6388088e",
   "metadata": {},
   "outputs": [],
   "source": []
  },
  {
   "cell_type": "code",
   "execution_count": null,
   "id": "49fac928",
   "metadata": {},
   "outputs": [],
   "source": []
  },
  {
   "cell_type": "code",
   "execution_count": null,
   "id": "5689a283",
   "metadata": {},
   "outputs": [],
   "source": []
  },
  {
   "cell_type": "code",
   "execution_count": null,
   "id": "b6621fde",
   "metadata": {},
   "outputs": [],
   "source": []
  },
  {
   "cell_type": "code",
   "execution_count": null,
   "id": "be68f0c6",
   "metadata": {},
   "outputs": [],
   "source": []
  },
  {
   "cell_type": "code",
   "execution_count": null,
   "id": "6729f961",
   "metadata": {},
   "outputs": [],
   "source": []
  },
  {
   "cell_type": "code",
   "execution_count": null,
   "id": "02a8307d",
   "metadata": {},
   "outputs": [],
   "source": []
  }
 ],
 "metadata": {
  "kernelspec": {
   "display_name": "Python 3 (ipykernel)",
   "language": "python",
   "name": "python3"
  },
  "language_info": {
   "codemirror_mode": {
    "name": "ipython",
    "version": 3
   },
   "file_extension": ".py",
   "mimetype": "text/x-python",
   "name": "python",
   "nbconvert_exporter": "python",
   "pygments_lexer": "ipython3",
   "version": "3.9.7"
  }
 },
 "nbformat": 4,
 "nbformat_minor": 5
}
